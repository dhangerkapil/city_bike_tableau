{
 "cells": [
  {
   "cell_type": "code",
   "execution_count": 1,
   "metadata": {},
   "outputs": [],
   "source": [
    "import pandas as pd\n",
    "import numpy as np\n",
    "import sys, os \n",
    "import csv\n",
    "import glob\n",
    "from datetime import datetime"
   ]
  },
  {
   "cell_type": "code",
   "execution_count": 2,
   "metadata": {},
   "outputs": [],
   "source": [
    "#we need a way to get the directory with all the csv files, this is to test \n",
    "#a method for getting all the files\n"
   ]
  },
  {
   "cell_type": "code",
   "execution_count": 3,
   "metadata": {},
   "outputs": [],
   "source": [
    "#we'll use glob to access the files, create a path to the csv's\n",
    "path =\"csv/*.csv\"\n",
    "csv_list = glob.glob(path)"
   ]
  },
  {
   "cell_type": "code",
   "execution_count": 4,
   "metadata": {},
   "outputs": [
    {
     "data": {
      "text/plain": [
       "9"
      ]
     },
     "execution_count": 4,
     "metadata": {},
     "output_type": "execute_result"
    }
   ],
   "source": [
    "len(csv_list)"
   ]
  },
  {
   "cell_type": "code",
   "execution_count": 5,
   "metadata": {},
   "outputs": [],
   "source": [
    "#use some loops to go through each csv file, write each line into a single open csv file\n",
    "with open('citi_ride.csv', 'a') as singleFile:\n",
    "    for csvFile in glob.glob(\"csv/*.csv\"):\n",
    "        for line in open(csvFile, 'r'):\n",
    "            singleFile.write(line)"
   ]
  },
  {
   "cell_type": "code",
   "execution_count": 6,
   "metadata": {},
   "outputs": [],
   "source": [
    "#lets just take a quick look at it. \n",
    "df = pd.read_csv('citi_ride.csv')"
   ]
  },
  {
   "cell_type": "code",
   "execution_count": 7,
   "metadata": {},
   "outputs": [
    {
     "data": {
      "text/plain": [
       "tripduration               object\n",
       "starttime                  object\n",
       "stoptime                   object\n",
       "start station id           object\n",
       "start station name         object\n",
       "start station latitude     object\n",
       "start station longitude    object\n",
       "end station id             object\n",
       "end station name           object\n",
       "end station latitude       object\n",
       "end station longitude      object\n",
       "bikeid                     object\n",
       "usertype                   object\n",
       "birth year                 object\n",
       "gender                     object\n",
       "dtype: object"
      ]
     },
     "execution_count": 7,
     "metadata": {},
     "output_type": "execute_result"
    }
   ],
   "source": [
    "df.dtypes"
   ]
  },
  {
   "cell_type": "code",
   "execution_count": 8,
   "metadata": {},
   "outputs": [
    {
     "data": {
      "text/html": [
       "<div>\n",
       "<style scoped>\n",
       "    .dataframe tbody tr th:only-of-type {\n",
       "        vertical-align: middle;\n",
       "    }\n",
       "\n",
       "    .dataframe tbody tr th {\n",
       "        vertical-align: top;\n",
       "    }\n",
       "\n",
       "    .dataframe thead th {\n",
       "        text-align: right;\n",
       "    }\n",
       "</style>\n",
       "<table border=\"1\" class=\"dataframe\">\n",
       "  <thead>\n",
       "    <tr style=\"text-align: right;\">\n",
       "      <th></th>\n",
       "      <th>tripduration</th>\n",
       "      <th>starttime</th>\n",
       "      <th>stoptime</th>\n",
       "      <th>start station id</th>\n",
       "      <th>start station name</th>\n",
       "      <th>start station latitude</th>\n",
       "      <th>start station longitude</th>\n",
       "      <th>end station id</th>\n",
       "      <th>end station name</th>\n",
       "      <th>end station latitude</th>\n",
       "      <th>end station longitude</th>\n",
       "      <th>bikeid</th>\n",
       "      <th>usertype</th>\n",
       "      <th>birth year</th>\n",
       "      <th>gender</th>\n",
       "    </tr>\n",
       "  </thead>\n",
       "  <tbody>\n",
       "    <tr>\n",
       "      <th>0</th>\n",
       "      <td>329</td>\n",
       "      <td>2018-03-01 06:37:37.0380</td>\n",
       "      <td>2018-03-01 06:43:06.5520</td>\n",
       "      <td>3183</td>\n",
       "      <td>Exchange Place</td>\n",
       "      <td>40.7162469</td>\n",
       "      <td>-74.0334588</td>\n",
       "      <td>3202</td>\n",
       "      <td>Newport PATH</td>\n",
       "      <td>40.7272235</td>\n",
       "      <td>-74.0337589</td>\n",
       "      <td>29284</td>\n",
       "      <td>Subscriber</td>\n",
       "      <td>1981</td>\n",
       "      <td>1</td>\n",
       "    </tr>\n",
       "    <tr>\n",
       "      <th>1</th>\n",
       "      <td>118</td>\n",
       "      <td>2018-03-01 07:37:30.1210</td>\n",
       "      <td>2018-03-01 07:39:28.3910</td>\n",
       "      <td>3183</td>\n",
       "      <td>Exchange Place</td>\n",
       "      <td>40.7162469</td>\n",
       "      <td>-74.0334588</td>\n",
       "      <td>3184</td>\n",
       "      <td>Paulus Hook</td>\n",
       "      <td>40.7141454</td>\n",
       "      <td>-74.0335519</td>\n",
       "      <td>29465</td>\n",
       "      <td>Subscriber</td>\n",
       "      <td>1966</td>\n",
       "      <td>1</td>\n",
       "    </tr>\n",
       "    <tr>\n",
       "      <th>2</th>\n",
       "      <td>76</td>\n",
       "      <td>2018-03-01 08:26:17.9390</td>\n",
       "      <td>2018-03-01 08:27:34.6770</td>\n",
       "      <td>3183</td>\n",
       "      <td>Exchange Place</td>\n",
       "      <td>40.7162469</td>\n",
       "      <td>-74.0334588</td>\n",
       "      <td>3184</td>\n",
       "      <td>Paulus Hook</td>\n",
       "      <td>40.7141454</td>\n",
       "      <td>-74.0335519</td>\n",
       "      <td>29681</td>\n",
       "      <td>Subscriber</td>\n",
       "      <td>1975</td>\n",
       "      <td>1</td>\n",
       "    </tr>\n",
       "  </tbody>\n",
       "</table>\n",
       "</div>"
      ],
      "text/plain": [
       "  tripduration                 starttime                  stoptime  \\\n",
       "0          329  2018-03-01 06:37:37.0380  2018-03-01 06:43:06.5520   \n",
       "1          118  2018-03-01 07:37:30.1210  2018-03-01 07:39:28.3910   \n",
       "2           76  2018-03-01 08:26:17.9390  2018-03-01 08:27:34.6770   \n",
       "\n",
       "  start station id start station name start station latitude  \\\n",
       "0             3183     Exchange Place             40.7162469   \n",
       "1             3183     Exchange Place             40.7162469   \n",
       "2             3183     Exchange Place             40.7162469   \n",
       "\n",
       "  start station longitude end station id end station name  \\\n",
       "0             -74.0334588           3202     Newport PATH   \n",
       "1             -74.0334588           3184      Paulus Hook   \n",
       "2             -74.0334588           3184      Paulus Hook   \n",
       "\n",
       "  end station latitude end station longitude bikeid    usertype birth year  \\\n",
       "0           40.7272235           -74.0337589  29284  Subscriber       1981   \n",
       "1           40.7141454           -74.0335519  29465  Subscriber       1966   \n",
       "2           40.7141454           -74.0335519  29681  Subscriber       1975   \n",
       "\n",
       "  gender  \n",
       "0      1  \n",
       "1      1  \n",
       "2      1  "
      ]
     },
     "execution_count": 8,
     "metadata": {},
     "output_type": "execute_result"
    }
   ],
   "source": [
    "df.head(3)"
   ]
  },
  {
   "cell_type": "code",
   "execution_count": 9,
   "metadata": {},
   "outputs": [
    {
     "data": {
      "text/plain": [
       "tripduration               object\n",
       "starttime                  object\n",
       "stoptime                   object\n",
       "start station id           object\n",
       "start station name         object\n",
       "start station latitude     object\n",
       "start station longitude    object\n",
       "end station id             object\n",
       "end station name           object\n",
       "end station latitude       object\n",
       "end station longitude      object\n",
       "bikeid                     object\n",
       "usertype                   object\n",
       "birth year                 object\n",
       "gender                     object\n",
       "dtype: object"
      ]
     },
     "execution_count": 9,
     "metadata": {},
     "output_type": "execute_result"
    }
   ],
   "source": [
    "df.dtypes"
   ]
  },
  {
   "cell_type": "code",
   "execution_count": null,
   "metadata": {},
   "outputs": [],
   "source": []
  }
 ],
 "metadata": {
  "kernelspec": {
   "display_name": "Python 3",
   "language": "python",
   "name": "python3"
  },
  "language_info": {
   "codemirror_mode": {
    "name": "ipython",
    "version": 3
   },
   "file_extension": ".py",
   "mimetype": "text/x-python",
   "name": "python",
   "nbconvert_exporter": "python",
   "pygments_lexer": "ipython3",
   "version": "3.6.5"
  }
 },
 "nbformat": 4,
 "nbformat_minor": 2
}
